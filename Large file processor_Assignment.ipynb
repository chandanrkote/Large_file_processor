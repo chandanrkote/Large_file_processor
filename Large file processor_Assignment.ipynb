{
 "cells": [
  {
   "cell_type": "markdown",
   "metadata": {},
   "source": [
    "# Large file processor\n",
    "Aim is to build a system which is able to handle long running processes in a distributed fashion."
   ]
  },
  {
   "cell_type": "markdown",
   "metadata": {},
   "source": [
    "# 1. Problem statement\n",
    "We need to be able to import products from a CSV file and into a database. There are half a million product details to be imported into the database. You can find the CSV file here in a compressed format"
   ]
  },
  {
   "cell_type": "markdown",
   "metadata": {},
   "source": [
    "# 2. Points to achieve\n",
    "1. Your code should follow concept of OOPS\n",
    "2. Support for regular non-blocking parallel ingestion of the given file into a table. Consider thinking about the scale of what should happen if the file is to be processed in 2 mins.\n",
    "3. Support for updating existing products in the table based on `sku` as the primary key. (Yes, we know about the kind of data in the file. You need to find a workaround for it)\n",
    "4. All product details are to be ingested into a single table\n",
    "5. An aggregated table on above rows with `name` and `no. of products` as the columns"
   ]
  },
  {
   "cell_type": "markdown",
   "metadata": {},
   "source": [
    "# Process\n",
    "Since code should have the concept of Object-Oriented Programming.\n",
    "Here I am explaining the process/steps that I followed to write the code.\n",
    "1.\tI wrote code is SSMS to check the things how it is working.\n",
    "2.\tI converted same code to Python and checked the workflow and it worked fine.\n",
    "3.\tSince my code is not reaching the first point in the Point to Achieve, I modified code in such a way that it should satisfy the OOPS concept. I have created classes and Object and required functions as well.\n"
   ]
  },
  {
   "cell_type": "code",
   "execution_count": 18,
   "metadata": {},
   "outputs": [],
   "source": [
    "#Here I created clasee called Products which required fuctions\n",
    "\n",
    "\n",
    "# init fuction will work as connection function where it will connected to the Server and Database.\n",
    "# Made conn.autocommit=True so we don't need to call the commit() method manually to commit the changes.\n",
    "# Passing Server and database name as a parameter.\n",
    "import pyodbc\n",
    "\n",
    "class Products:\n",
    "  def __init__(self,Server, Database):\n",
    "    \n",
    "    conn = pyodbc.connect('Driver={SQL Server};'+\n",
    "                      'Server={0};'.format(Server)+\n",
    "                      'Database={0};'.format(Database)+\n",
    "                      'Trusted_Connection=yes;')\n",
    "    conn.autocommit=True\n",
    "    self.cursor = conn.cursor()\n",
    "    \n",
    "# Here I am creating a function called create_table and passing table name as parameter with the help of format function\n",
    "\n",
    "  def create_table(self,table):\n",
    "    self.cursor.execute('CREATE TABLE {0} (name nvarchar(MAX), sku nvarchar(MAX), description nvarchar(MAX))'.format(table))\n",
    "    \n",
    "    \n",
    "# Here I am creating a function called drop_drop the table if it is called created. This is an \"Optional\"\n",
    "\n",
    "  def drop_table(self,table):\n",
    "    self.cursor.execute('DROP TABLE IF EXISTS {0}'.format(table))\n",
    "    \n",
    "    \n",
    "# Here I a, creating a function to insert the data to a table  from CSV file. This function will take table name and file path as a parameter.\n",
    "\n",
    "  def bulk_insert(self,table,file_path):\n",
    "    self.cursor.execute(\"\"\"BULK INSERT {0} FROM \"{1}\" WITH ( FIELDTERMINATOR=',',ROWTERMINATOR='\\\\n');\"\"\".format(table,file_path))\n",
    "    \n",
    "# Here is the function to update the existing table\n",
    "\n",
    "  def update_by_sku(self,table,product,description,sku):\n",
    "    # print('UPDATE MYPRODUCTS1 SET name='testproduct1', description='testdescription1' WHERE sku='lay-raise-best-end'.format(table,product,description,sku))\n",
    "    self.cursor.execute(\"UPDATE {0} SET name='{1}', description='{2}' WHERE sku='{3}'\".format(table,product,description,sku))"
   ]
  },
  {
   "cell_type": "code",
   "execution_count": 19,
   "metadata": {},
   "outputs": [],
   "source": [
    "#Here I am passing/calling actual Servername and Database name\n",
    "p1 = Products(\"####\\####\", \"Product\") #Please reply Servername with actual Servername as I cannot disclose my Servername"
   ]
  },
  {
   "cell_type": "code",
   "execution_count": 20,
   "metadata": {},
   "outputs": [],
   "source": [
    "#Here I created 2 variables calledd table name and file path and assigned actual values\n",
    "table_name=\"MYPRODUCTS1\"\n",
    "file_path=\"C:\\\\Users\\\\chand\\\\Desktop\\\\Project1\\\\products.csv\" #Please reply File path with actual file path as I cannot disclose my file path"
   ]
  },
  {
   "cell_type": "code",
   "execution_count": 21,
   "metadata": {},
   "outputs": [],
   "source": [
    "# Here I am caling the fucntions\n",
    "p1.drop_table(table_name)\n",
    "p1.create_table(table_name)\n",
    "p1.bulk_insert(table_name,file_path)\n",
    "# Below I am calling the function to update the records\n",
    "p1.update_by_sku(table_name,\"testproduct1\",\"testdescription1\",\"lay-raise-best-end\")"
   ]
  },
  {
   "cell_type": "code",
   "execution_count": 22,
   "metadata": {},
   "outputs": [],
   "source": [
    "#Here is the query to get a aggregated table\n",
    "#SELECT d.name, COUNT(1) AS 'no. of products'\n",
    "#INTO dbo.AggregatedProducts\n",
    "#FROM dbo.MYPRODUCTS1 d\n",
    "#GROUP BY d.name\n",
    "\n",
    "\n",
    "#SELECT * FROM  dbo.AggregatedProducts"
   ]
  },
  {
   "cell_type": "code",
   "execution_count": null,
   "metadata": {},
   "outputs": [],
   "source": []
  },
  {
   "cell_type": "code",
   "execution_count": null,
   "metadata": {},
   "outputs": [],
   "source": []
  }
 ],
 "metadata": {
  "kernelspec": {
   "display_name": "Python 3",
   "language": "python",
   "name": "python3"
  },
  "language_info": {
   "codemirror_mode": {
    "name": "ipython",
    "version": 3
   },
   "file_extension": ".py",
   "mimetype": "text/x-python",
   "name": "python",
   "nbconvert_exporter": "python",
   "pygments_lexer": "ipython3",
   "version": "3.7.6"
  }
 },
 "nbformat": 4,
 "nbformat_minor": 4
}
